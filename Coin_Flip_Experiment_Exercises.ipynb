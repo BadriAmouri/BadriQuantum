{
  "nbformat": 4,
  "nbformat_minor": 0,
  "metadata": {
    "colab": {
      "provenance": [],
      "include_colab_link": true
    },
    "kernelspec": {
      "name": "python3",
      "display_name": "Python 3"
    },
    "language_info": {
      "name": "python"
    }
  },
  "cells": [
    {
      "cell_type": "markdown",
      "metadata": {
        "id": "view-in-github",
        "colab_type": "text"
      },
      "source": [
        "<a href=\"https://colab.research.google.com/github/BadriAmouri/BadriQuantum/blob/main/Coin_Flip_Experiment_Exercises.ipynb\" target=\"_parent\"><img src=\"https://colab.research.google.com/assets/colab-badge.svg\" alt=\"Open In Colab\"/></a>"
      ]
    },
    {
      "cell_type": "markdown",
      "source": [
        "<img src=\"https://gitlab.com/qworld/qeducation/educational-materials/adequate-qbook1/raw/main/qworld/images/adq_1.png\" align=\"left\" width=450></a>\n",
        "$ \\newcommand{\\bra}[1]{\\langle #1|} $\n",
        "$ \\newcommand{\\ket}[1]{|#1\\rangle} $\n",
        "$ \\newcommand{\\braket}[2]{\\langle #1|#2\\rangle} $\n",
        "$ \\newcommand{\\dot}[2]{ #1 \\cdot #2} $\n",
        "$ \\newcommand{\\biginner}[2]{\\left\\langle #1,#2\\right\\rangle} $\n",
        "$ \\newcommand{\\mymatrix}[2]{\\left( \\begin{array}{#1} #2\\end{array} \\right)} $\n",
        "$ \\newcommand{\\myvector}[1]{\\mymatrix{c}{#1}} $\n",
        "$ \\newcommand{\\myrvector}[1]{\\mymatrix{r}{#1}} $\n",
        "$ \\newcommand{\\mypar}[1]{\\left( #1 \\right)} $\n",
        "$ \\newcommand{\\mybigpar}[1]{ \\Big( #1 \\Big)} $\n",
        "$ \\newcommand{\\sqrttwo}{\\frac{1}{\\sqrt{2}}} $\n",
        "$ \\newcommand{\\dsqrttwo}{\\dfrac{1}{\\sqrt{2}}} $\n",
        "$ \\newcommand{\\onehalf}{\\frac{1}{2}} $\n",
        "$ \\newcommand{\\donehalf}{\\dfrac{1}{2}} $\n",
        "$ \\newcommand{\\hadamard}{ \\mymatrix{rr}{ \\sqrttwo & \\sqrttwo \\\\ \\sqrttwo & -\\sqrttwo }} $\n",
        "$ \\newcommand{\\vzero}{\\myvector{1\\\\0}} $\n",
        "$ \\newcommand{\\vone}{\\myvector{0\\\\1}} $\n",
        "$ \\newcommand{\\stateplus}{\\myvector{ \\sqrttwo \\\\  \\sqrttwo } } $\n",
        "$ \\newcommand{\\stateminus}{ \\myrvector{ \\sqrttwo \\\\ -\\sqrttwo } } $\n",
        "$ \\newcommand{\\myarray}[2]{ \\begin{array}{#1}#2\\end{array}} $\n",
        "$ \\newcommand{\\X}{ \\mymatrix{cc}{0 & 1 \\\\ 1 & 0}  } $\n",
        "$ \\newcommand{\\I}{ \\mymatrix{rr}{1 & 0 \\\\ 0 & 1}  } $\n",
        "$ \\newcommand{\\Z}{ \\mymatrix{rr}{1 & 0 \\\\ 0 & -1}  } $\n",
        "$ \\newcommand{\\Htwo}{ \\mymatrix{rrrr}{ \\frac{1}{2} & \\frac{1}{2} & \\frac{1}{2} & \\frac{1}{2} \\\\ \\frac{1}{2} & -\\frac{1}{2} & \\frac{1}{2} & -\\frac{1}{2} \\\\ \\frac{1}{2} & \\frac{1}{2} & -\\frac{1}{2} & -\\frac{1}{2} \\\\ \\frac{1}{2} & -\\frac{1}{2} & -\\frac{1}{2} & \\frac{1}{2} } } $\n",
        "$ \\newcommand{\\CNOT}{ \\mymatrix{cccc}{1 & 0 & 0 & 0 \\\\ 0 & 1 & 0 & 0 \\\\ 0 & 0 & 0 & 1 \\\\ 0 & 0 & 1 & 0} } $\n",
        "$ \\newcommand{\\norm}[1]{ \\left\\lVert #1 \\right\\rVert } $\n",
        "$ \\newcommand{\\pstate}[1]{ \\lceil \\mspace{-1mu} #1 \\mspace{-1.5mu} \\rfloor } $\n",
        "$ \\newcommand{\\greenbit}[1] {\\mathbf{{\\color{green}#1}}} $\n",
        "$ \\newcommand{\\bluebit}[1] {\\mathbf{{\\color{blue}#1}}} $\n",
        "$ \\newcommand{\\redbit}[1] {\\mathbf{{\\color{red}#1}}} $\n",
        "$ \\newcommand{\\brownbit}[1] {\\mathbf{{\\color{brown}#1}}} $\n",
        "$ \\newcommand{\\blackbit}[1] {\\mathbf{{\\color{black}#1}}} $"
      ],
      "metadata": {
        "id": "JtXB_M68pKv-"
      }
    },
    {
      "cell_type": "markdown",
      "source": [
        "_prepared by Abuzer Yakaryilmaz_"
      ],
      "metadata": {
        "id": "Dq4hb3WdpTl1"
      }
    },
    {
      "cell_type": "markdown",
      "source": [
        "<font size=\"28px\" style=\"font-size:28px;\" align=\"left\"><b><font color=\"blue\"> Exercises for </font>Coin Flip: A Probabilistic Bit</b></font>"
      ],
      "metadata": {
        "id": "yPT2w1MMpYmn"
      }
    },
    {
      "cell_type": "markdown",
      "source": [
        "##### <font color=\"#08b806\">Please execute the following cell, it is necessary to distinguish between your local environment and Google Colab's"
      ],
      "metadata": {
        "id": "IUE9bvHnrJIc"
      }
    },
    {
      "cell_type": "code",
      "source": [
        "import IPython\n",
        "\n",
        "def in_colab():\n",
        "    try:\n",
        "        import google.colab\n",
        "        return True\n",
        "    except:\n",
        "        return False\n",
        "\n",
        "SolutionToTask2 = lambda: IPython.display.display(IPython.display.Javascript('window.open(\"{url}\");'.format(url='https://colab.research.google.com/drive/1Pt0yZptC1NZCAxL_vD2Xza6Av6IFjPF0#scrollTo=H96SMjBvxIZI' if in_colab() else 'Coin_Flip_Experiment_Exercises_Solutions.ipynb#task2')))\n",
        "SolutionToTask3 = lambda: IPython.display.display(IPython.display.Javascript('window.open(\"{url}\");'.format(url='https://colab.research.google.com/drive/1Pt0yZptC1NZCAxL_vD2Xza6Av6IFjPF0#scrollTo=QybWUMGROEan' if in_colab() else 'Coin_Flip_Experiment_Exercises_Solutions.ipynb#task3')))\n",
        "SolutionToTask4 = lambda: IPython.display.display(IPython.display.Javascript('window.open(\"{url}\");'.format(url='https://colab.research.google.com/drive/1Pt0yZptC1NZCAxL_vD2Xza6Av6IFjPF0#scrollTo=clxQVSv6OEan' if in_colab() else 'Coin_Flip_Experiment_Exercises_Solutions.ipynb#task4')))\n"
      ],
      "metadata": {
        "id": "neMmDpT_sufG"
      },
      "execution_count": 1,
      "outputs": []
    },
    {
      "cell_type": "markdown",
      "source": [
        "#<h3> Task 2: Simulating BiasedCoin in Python</h3>\n",
        "\n",
        "Flip the following biased coin 100 times. Calculate the total numbers of heads and tails, and then check the ratio of the number of heads and the number of tails.\n",
        "\n",
        "$\n",
        "BiasedCoin = \\begin{array}{c|cc} \\hookleftarrow & \\mathbf{Head} & \\mathbf{Tail} \\\\ \\hline \\mathbf{Head} & 0.6 & 0.6 \\\\  \\mathbf{Tail} & 0.4 & 0.4  \\end{array}\n",
        "$\n",
        "\n",
        "\n",
        "Do the same experiment 1000 times.\n",
        "\n",
        "Do the same experiment 10,000 times.\n",
        "\n",
        "Do the same experiment 100,000 times.\n",
        "\n",
        "Do your results get close to the ideal case $ \\mypar{ \\dfrac{\\mbox{\\# of heads}}{\\mbox{\\# of tails}} = \\dfrac{0.6}{0.4} = 1.50000000 } $?"
      ],
      "metadata": {
        "id": "v_uTqdOhpdUD"
      }
    },
    {
      "cell_type": "code",
      "source": [
        "import random\n",
        "\n",
        "def flip_markov_biased_coin(n_flips):\n",
        "    \"\"\"Simulates flipping a biased coin using a Markov chain transition model.\"\"\"\n",
        "    current_state = \"Head\" if random.random() < 0.5 else \"Tail\"  # Randomly start with Head or Tail\n",
        "    heads = 0\n",
        "    tails = 0\n",
        "\n",
        "    for _ in range(n_flips):\n",
        "        if current_state == \"Head\":\n",
        "            heads += 1\n",
        "            current_state = \"Head\" if random.random() < 0.6 else \"Tail\"\n",
        "        else:  # current_state == \"Tail\"\n",
        "            tails += 1\n",
        "            current_state = \"Head\" if random.random() < 0.6 else \"Tail\"\n",
        "\n",
        "    ratio = heads / tails if tails != 0 else float('inf')  # Avoid division by zero\n",
        "    return heads, tails, ratio\n",
        "\n",
        "# Running simulations for different flip counts\n",
        "experiments = [100, 1000, 10_000, 100_000]\n",
        "\n",
        "for n in experiments:\n",
        "    heads, tails, ratio = flip_markov_biased_coin(n)\n",
        "    print(f\"Flips: {n}, Heads: {heads}, Tails: {tails}, Ratio: {ratio:.6f}\")"
      ],
      "metadata": {
        "id": "Zezc5JewpkrE",
        "outputId": "c557ced2-bd4a-4696-e293-a4fc8e77b521",
        "colab": {
          "base_uri": "https://localhost:8080/"
        }
      },
      "execution_count": 6,
      "outputs": [
        {
          "output_type": "stream",
          "name": "stdout",
          "text": [
            "Flips: 100, Heads: 55, Tails: 45, Ratio: 1.222222\n",
            "Flips: 1000, Heads: 614, Tails: 386, Ratio: 1.590674\n",
            "Flips: 10000, Heads: 6035, Tails: 3965, Ratio: 1.522068\n",
            "Flips: 100000, Heads: 59823, Tails: 40177, Ratio: 1.488986\n"
          ]
        }
      ]
    },
    {
      "cell_type": "markdown",
      "source": [
        "\n",
        "```\n",
        "this is based on the Law of Large Numbers\n",
        "\n",
        "```\n",
        "\n"
      ],
      "metadata": {
        "id": "tZhSPK4H_M3E"
      }
    },
    {
      "cell_type": "markdown",
      "source": [
        "To check out our solution, run the next cell:"
      ],
      "metadata": {
        "id": "J9Jyz0Iwpfnh"
      }
    },
    {
      "cell_type": "code",
      "source": [
        "SolutionToTask2()  # show solution for task 2"
      ],
      "metadata": {
        "id": "vemwAmAAs2NE",
        "outputId": "164bc083-38f6-463e-8922-011c3e992d1d",
        "colab": {
          "base_uri": "https://localhost:8080/",
          "height": 17
        }
      },
      "execution_count": 7,
      "outputs": [
        {
          "output_type": "display_data",
          "data": {
            "text/plain": [
              "<IPython.core.display.Javascript object>"
            ],
            "application/javascript": [
              "window.open(\"https://colab.research.google.com/drive/1Pt0yZptC1NZCAxL_vD2Xza6Av6IFjPF0#scrollTo=H96SMjBvxIZI\");"
            ]
          },
          "metadata": {}
        }
      ]
    },
    {
      "cell_type": "markdown",
      "source": [
        "---\n",
        "\n",
        "<h3> Extra: Programming a biased coin </h3>\n",
        "\n",
        "We use a simple method to create a biased coin.\n",
        "\n",
        "First, we pick a range for the precision of probabilities, say $ N $, as $ N = 11, 101, 1001, \\mbox{ or }, 10^k+1 $ for some $ k > 3 $.\n",
        "\n",
        "Second, we pick the bias, say $ B $, as an integer in $ \\{0,\\ldots,N\\} $.\n",
        "\n",
        "We fix $ N $ and $ B $.\n",
        "\n",
        "Third, we pick a random integer in $ \\{0,1,\\ldots,N-1\\} $:\n",
        "\n",
        "- if it is less than $ B $, we output \"Heads\" and\n",
        "- if it is equal to or greater than $ B $, we output \"Tails\"\n",
        "\n",
        "    \n",
        "In this way, we have a biased coin \"landing on\" heads with probability $ \\frac{B}{N} $ including 0 and 1.\n",
        "\n",
        "Remark that we pick $ N = 10^k+1 $ as an odd number. In this way, the coin cannot be fair as long as $ B $ is an integer. Because, the half of an odd integer is not an integer."
      ],
      "metadata": {
        "id": "H0lhoAmVpw02"
      }
    },
    {
      "cell_type": "markdown",
      "source": [
        "<h3> Task 3 </h3>\n",
        "\n",
        "Write a function to implement the described biased coin,\n",
        "\n",
        "The inputs are integers $N>0$ and $ B \\in \\{0,\\ldots,N\\} $.\n",
        "\n",
        "The output is either \"Heads\" or \"Tails\"."
      ],
      "metadata": {
        "id": "Z60Shw7zp05_"
      }
    },
    {
      "cell_type": "code",
      "source": [
        "import random\n",
        "\n",
        "def flip_markov_biased_coin(n_flips):\n",
        "    \"\"\"Simulates flipping a biased coin using a Markov chain transition model.\"\"\"\n",
        "    current_state = \"Head\" if random.random() < 0.5 else \"Tail\"  # Randomly start with Head or Tail\n",
        "    heads = 0\n",
        "    tails = 0\n",
        "\n",
        "    for _ in range(n_flips):\n",
        "        if current_state == \"Head\":\n",
        "            heads += 1\n",
        "            current_state = \"Head\" if random.random() < 0.6 else \"Tail\"\n",
        "        else:  # current_state == \"Tail\"\n",
        "            tails += 1\n",
        "            current_state = \"Head\" if random.random() < 0.6 else \"Tail\"\n",
        "\n",
        "    ratio = heads / tails if tails != 0 else float('inf')  # Avoid division by zero\n",
        "    return heads, tails, ratio\n",
        "\n",
        "# Running simulations for different flip counts\n",
        "experiments = [100, 1000, 10_000, 100_000]\n",
        "\n",
        "for n in experiments:\n",
        "    heads, tails, ratio = flip_markov_biased_coin(n)\n",
        "    print(f\"Flips: {n}, Heads: {heads}, Tails: {tails}, Ratio: {ratio:.6f}\")"
      ],
      "metadata": {
        "id": "BWQWARXW_sV9"
      },
      "execution_count": null,
      "outputs": []
    },
    {
      "cell_type": "code",
      "source": [
        "def biased_coin(N,B):\n",
        "    from random import randrange\n",
        "    current_state = \"Head\" if random.random() < 0.5 else \"Tail\"  # Randomly start with Head or Tail\n",
        "    heads = 0\n",
        "    tails = 0\n",
        "\n",
        "    for _ in range(N):\n",
        "      if current_state == \"Head\":\n",
        "          heads += 1\n",
        "          current_state = \"Head\" if random.random() < B else \"Tail\"\n",
        "      else:  # current_state == \"Tail\"\n",
        "          tails += 1\n",
        "          current_state = \"Head\" if random.random() < B else \"Tail\"\n",
        "\n",
        "    ratio = heads / tails if tails != 0 else float('inf')  # Avoid division by zero\n",
        "    return heads, tails, ratio\n",
        "\n",
        "\n"
      ],
      "metadata": {
        "id": "n--cP0c6pxh9"
      },
      "execution_count": 10,
      "outputs": []
    },
    {
      "cell_type": "code",
      "source": [
        "# Running simulations for different flip counts\n",
        "experiments = [101, 1001, 10_001, 100_001]\n",
        "\n",
        "for n in experiments:\n",
        "    heads, tails, ratio = biased_coin(n,0.6)\n",
        "    print(f\"Flips: {n}, Heads: {heads}, Tails: {tails}, Ratio: {ratio:.6f}\")"
      ],
      "metadata": {
        "id": "jQH_IWZzAMu1",
        "outputId": "0e93132c-c1fd-4b87-9745-bfdf6924cac8",
        "colab": {
          "base_uri": "https://localhost:8080/"
        }
      },
      "execution_count": 12,
      "outputs": [
        {
          "output_type": "stream",
          "name": "stdout",
          "text": [
            "Flips: 101, Heads: 53, Tails: 48, Ratio: 1.104167\n",
            "Flips: 1001, Heads: 587, Tails: 414, Ratio: 1.417874\n",
            "Flips: 10001, Heads: 6027, Tails: 3974, Ratio: 1.516608\n",
            "Flips: 100001, Heads: 60237, Tails: 39764, Ratio: 1.514863\n"
          ]
        }
      ]
    },
    {
      "cell_type": "markdown",
      "source": [
        "To check out our solution, run the next cell:"
      ],
      "metadata": {
        "id": "kJbhARk8p-y5"
      }
    },
    {
      "cell_type": "code",
      "source": [
        "SolutionToTask3()  # show solution for task 3"
      ],
      "metadata": {
        "id": "65TzXItBtAhU",
        "outputId": "c49134e9-077c-4173-c8a8-1667d12bc255",
        "colab": {
          "base_uri": "https://localhost:8080/",
          "height": 17
        }
      },
      "execution_count": 9,
      "outputs": [
        {
          "output_type": "display_data",
          "data": {
            "text/plain": [
              "<IPython.core.display.Javascript object>"
            ],
            "application/javascript": [
              "window.open(\"https://colab.research.google.com/drive/1Pt0yZptC1NZCAxL_vD2Xza6Av6IFjPF0#scrollTo=QybWUMGROEan\");"
            ]
          },
          "metadata": {}
        }
      ]
    },
    {
      "cell_type": "markdown",
      "source": [
        "<h3> Task 4</h3>\n",
        "\n",
        "We use the biased coin described in Task 3.\n",
        "\n",
        "(You may use the function given in solution of task 3)\n",
        "\n",
        "We pick $ N $ as 101.\n",
        "\n",
        "Our task is to determine the value of $ B $ experimentially without looking its value directly.\n",
        "\n",
        "Flip the (same) biased coin 500 times, collect the statistics, and then guess the bias.\n",
        "\n",
        "Compare your guess with the actual bias by calculating the relative error in percentage (the absolute value of the difference divided by the real bias)."
      ],
      "metadata": {
        "id": "6lwatdXmqEV3"
      }
    },
    {
      "cell_type": "code",
      "source": [
        "import random\n",
        "\n",
        "def biased_coin(N, B):\n",
        "    current_state = \"Head\" if random.random() < 0.5 else \"Tail\"  # Start randomly\n",
        "    heads = 0\n",
        "    tails = 0\n",
        "\n",
        "    for _ in range(N):\n",
        "        if current_state == \"Head\":\n",
        "            heads += 1\n",
        "            current_state = \"Head\" if random.random() < B else \"Tail\"\n",
        "        else:  # current_state == \"Tail\"\n",
        "            tails += 1\n",
        "            current_state = \"Head\" if random.random() < B else \"Tail\"\n",
        "\n",
        "    ratio = heads / tails if tails != 0 else float('inf')  # Avoid division by zero\n",
        "    return heads, tails, ratio\n",
        "\n",
        "# Task 4: Estimate B by flipping the coin 500 times\n",
        "N_flips = 500\n",
        "true_B = 0.6  # Actual bias\n",
        "\n",
        "heads, tails, ratio = biased_coin(N_flips, true_B)\n",
        "estimated_B = heads / N_flips  # Estimated probability of getting Heads\n",
        "\n",
        "# Calculate relative error\n",
        "relative_error = abs((estimated_B - true_B) / true_B) * 100\n",
        "\n",
        "# Print results\n",
        "print(f\"Flips: {N_flips}, Heads: {heads}, Tails: {tails}, Estimated Bias: {estimated_B:.4f}\")\n",
        "print(f\"Relative Error: {relative_error:.2f}%\")"
      ],
      "metadata": {
        "id": "lraQFJEGBTJV",
        "outputId": "5ecc3495-6d27-4d63-eec3-d99790d7ab45",
        "colab": {
          "base_uri": "https://localhost:8080/"
        }
      },
      "execution_count": 13,
      "outputs": [
        {
          "output_type": "stream",
          "name": "stdout",
          "text": [
            "Flips: 500, Heads: 312, Tails: 188, Estimated Bias: 0.6240\n",
            "Relative Error: 4.00%\n"
          ]
        }
      ]
    },
    {
      "cell_type": "markdown",
      "source": [
        "To check out our solution, run the next cell:"
      ],
      "metadata": {
        "id": "l0peKoE1qMD1"
      }
    },
    {
      "cell_type": "code",
      "source": [
        "SolutionToTask4()  # show solution for task 4"
      ],
      "metadata": {
        "id": "S-gmTgiQtQTl",
        "outputId": "a7ad73b6-3bfb-4482-fbdf-ac77a67bdd31",
        "colab": {
          "base_uri": "https://localhost:8080/",
          "height": 17
        }
      },
      "execution_count": 14,
      "outputs": [
        {
          "output_type": "display_data",
          "data": {
            "text/plain": [
              "<IPython.core.display.Javascript object>"
            ],
            "application/javascript": [
              "window.open(\"https://colab.research.google.com/drive/1Pt0yZptC1NZCAxL_vD2Xza6Av6IFjPF0#scrollTo=clxQVSv6OEan\");"
            ]
          },
          "metadata": {}
        }
      ]
    },
    {
      "cell_type": "code",
      "source": [],
      "metadata": {
        "id": "pnUEmwf0BivB"
      },
      "execution_count": null,
      "outputs": []
    }
  ]
}